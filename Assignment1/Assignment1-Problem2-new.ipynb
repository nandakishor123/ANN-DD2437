{
 "cells": [
  {
   "cell_type": "code",
   "execution_count": 1,
   "metadata": {},
   "outputs": [],
   "source": [
    "from sklearn.datasets import make_blobs\n",
    "from matplotlib import pyplot\n",
    "from pandas import DataFrame\n",
    "import numpy as np"
   ]
  },
  {
   "cell_type": "code",
   "execution_count": 2,
   "metadata": {},
   "outputs": [
    {
     "data": {
      "image/png": "[encoded data removed]",
      "text/plain": [
       "<Figure size 432x288 with 1 Axes>"
      ]
     },
     "metadata": {
      "needs_background": "light"
     },
     "output_type": "display_data"
    }
   ],
   "source": [
    "X, y = make_blobs(n_samples=200, centers=2, n_features=2)\n",
    "one = np.ones((200,1))\n",
    "X = np.append(X,one, axis=1)\n",
    "# scatter plot, dots colored by class value\n",
    "df = DataFrame(dict(x=X[:,0], y=X[:,1], label=y))\n",
    "colors = {0:'red', 1:'blue'}\n",
    "fig, ax = pyplot.subplots()\n",
    "grouped = df.groupby('label')\n",
    "for key, group in grouped:\n",
    "    group.plot(ax=ax, kind='scatter', x='x', y='y', label=key, color=colors[key])\n",
    "pyplot.show()"
   ]
  },
  {
   "cell_type": "code",
   "execution_count": 3,
   "metadata": {},
   "outputs": [
    {
     "name": "stdout",
     "output_type": "stream",
     "text": [
      "(200,)\n"
     ]
    }
   ],
   "source": [
    "print(y.shape)\n",
    "# print(X)"
   ]
  },
  {
   "cell_type": "code",
   "execution_count": 5,
   "metadata": {},
   "outputs": [],
   "source": [
    "# def generate_weightmatrix(n):\n",
    "w_ij = np.random.rand(2,3)#2 inputs * 2 nodes hidden layer\n",
    "w_ki = np.random.rand(1,3) # 1 output * 2 nodes in previous layer output layer\n",
    "# print(w_ki)"
   ]
  },
  {
   "cell_type": "code",
   "execution_count": 6,
   "metadata": {},
   "outputs": [],
   "source": [
    "def calculate_predvalue(input_val, weight):\n",
    "    weighted_sum = []\n",
    "    temp = np.matmul(weight, input_val.T)\n",
    "#     print(temp)\n",
    "    return temp"
   ]
  },
  {
   "cell_type": "code",
   "execution_count": 7,
   "metadata": {},
   "outputs": [],
   "source": [
    "def sigmoid(z):\n",
    "    sig = 1/(1+ np.exp(-z))\n",
    "    return sig"
   ]
  },
  {
   "cell_type": "code",
   "execution_count": 8,
   "metadata": {},
   "outputs": [],
   "source": [
    "def derivative(z):\n",
    "    d = z * (1-z)\n",
    "    return d"
   ]
  },
  {
   "cell_type": "code",
   "execution_count": 10,
   "metadata": {},
   "outputs": [
    {
     "name": "stdout",
     "output_type": "stream",
     "text": [
      "**************Epoch: 0\n",
      "(1, 200)\n"
     ]
    }
   ],
   "source": [
    "max_iter = 1\n",
    "learning_rate = 0.00001\n",
    "error = []\n",
    "for i in range(max_iter):\n",
    "    print(\"**************Epoch:\",i)\n",
    "    thresh=[]\n",
    "    h_j = []\n",
    "    h_i = []\n",
    "    \n",
    "    weighted_sum_hiddenlayer = []\n",
    "    weighted_sum_outputlayer = []\n",
    "    \n",
    "#     for j in range(len(X)):\n",
    "    weighted_sum_hiddenlayer = calculate_predvalue(X,w_ij)\n",
    "    b1 = np.ones((1,200))\n",
    "    WS1 = np.array(weighted_sum_hiddenlayer)\n",
    "    \n",
    "    temp2 = WS1.T\n",
    "    for p in temp2:\n",
    "        temp = []\n",
    "        for q in p:\n",
    "            temp.append(sigmoid(q))\n",
    "        h_i.append(temp)\n",
    "    y_hid = np.array(h_i)\n",
    "    h_j = y_hid.T\n",
    "    h_j_bias = np.append(h_j,b1,axis = 0)\n",
    "#     print(h_j_bias.shape)\n",
    "#     break\n",
    "    \n",
    "    weighted_sum_outputlayer = calculate_predvalue(h_j_bias.T, w_ki)\n",
    "    WS2 = np.array(weighted_sum_outputlayer)\n",
    "#     print(WS2.shape)\n",
    "#     break\n",
    "    temp = []\n",
    "    temp1 = []\n",
    "    for p in WS2:\n",
    "        for i in p:\n",
    "            temp.append(sigmoid(i))\n",
    "    y_k = np.array(temp) ## Converting the activated output of outputlayer into an array\n",
    "    y_k = y_k.T\n",
    "    error = y - y_k\n",
    "    temp1.append(error)\n",
    "    error = np.array(temp1)\n",
    "\n",
    "    ##Calculating the delta_k for updating the weight between hidden layer- output layer\n",
    "    d_w = derivative(WS2)\n",
    "    delta_k = error * d_w\n",
    "    print(delta_k.shape)\n",
    "    break\n",
    "    delta_w_ki = np.matmul(delta_k, h_j_bias.T)\n",
    "#     print(delta_w_ki.shape)\n",
    "#     break\n",
    "    \n",
    "    d_wj = derivative(h_j)\n",
    "#     print(d_wj.shape)\n",
    "#     break\n",
    " \n",
    "#     temp =  []\n",
    "#     for i in range(d_w.shape[0]):\n",
    "#         temp.append(error[i]*d_w[i][0])\n",
    "#     temp=np.array(temp)\n",
    "#     temp1 = []\n",
    "#     print(temp)\n",
    "#     break\n",
    "\n",
    "#     print(delta_w_ki)\n",
    "#     delta_wij = np.dot(weightsum_first_layer.T, np.dot(error * derivative(), weightsum_hidden_layer.T) * derivative(weightsum_first_layer))\n",
    "    delta_wij = delta_w_ki * w_ki * d_wj\n",
    "#     print(delta_wij)\n",
    "#     break\n",
    "#     print(type(delta_wij))\n",
    "#     print(delta_wij.shape)\n",
    "#     break;\n",
    "    w_ij += (delta_wij * learning_rate)\n",
    "    w_ki += (delta_wki * learning_rate)"
   ]
  },
  {
   "cell_type": "code",
   "execution_count": null,
   "metadata": {},
   "outputs": [],
   "source": [
    "W"
   ]
  },
  {
   "cell_type": "code",
   "execution_count": null,
   "metadata": {},
   "outputs": [],
   "source": []
  }
 ],
 "metadata": {
  "kernelspec": {
   "display_name": "Python 3",
   "language": "python",
   "name": "python3"
  },
  "language_info": {
   "codemirror_mode": {
    "name": "ipython",
    "version": 3
   },
   "file_extension": ".py",
   "mimetype": "text/x-python",
   "name": "python",
   "nbconvert_exporter": "python",
   "pygments_lexer": "ipython3",
   "version": "3.7.6"
  }
 },
 "nbformat": 4,
 "nbformat_minor": 4
}
