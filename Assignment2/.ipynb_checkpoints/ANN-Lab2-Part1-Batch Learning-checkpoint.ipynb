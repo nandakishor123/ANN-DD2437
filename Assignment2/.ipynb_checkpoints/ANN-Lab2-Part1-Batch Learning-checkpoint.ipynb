{
 "cells": [
  {
   "cell_type": "code",
   "execution_count": 79,
   "metadata": {},
   "outputs": [],
   "source": [
    "import numpy as np\n",
    "import matplotlib.pyplot as plt\n",
    "from numpy.linalg import inv"
   ]
  },
  {
   "cell_type": "code",
   "execution_count": 80,
   "metadata": {},
   "outputs": [],
   "source": [
    "train = np.arange(0, 2*np.pi, 0.1)\n",
    "test = np.arange(0.05, 2*np.pi, 0.1)\n",
    "\n",
    "#print(train)\n",
    "#print(test)"
   ]
  },
  {
   "cell_type": "code",
   "execution_count": 81,
   "metadata": {},
   "outputs": [],
   "source": [
    "ntrain = np.random.normal(0, 0.1, len(train))\n",
    "ntest = np.random.normal(0, 0.1, len(test))\n",
    "train += ntrain\n",
    "test += ntest\n",
    "#print(train)\n",
    "#print(test)\n",
    "w = np.random.rand(len(train))"
   ]
  },
  {
   "cell_type": "code",
   "execution_count": 82,
   "metadata": {},
   "outputs": [],
   "source": [
    "def sinx(data):\n",
    "    temp=[]\n",
    "    for i in range(len(data)):\n",
    "        temp.append(np.sin(2*data[i]))\n",
    "    return np.array(temp)\n",
    "#y=sinx(train)\n",
    "#y"
   ]
  },
  {
   "cell_type": "code",
   "execution_count": 83,
   "metadata": {},
   "outputs": [],
   "source": [
    "def sinx_square(data):\n",
    "    temp=[]\n",
    "    for i in range(len(data)):\n",
    "        temp.append(np.sign(np.sin(2*data[i])))\n",
    "    return np.array(temp)\n",
    "#y=sinx_square(train)\n",
    "#y"
   ]
  },
  {
   "cell_type": "code",
   "execution_count": 84,
   "metadata": {},
   "outputs": [],
   "source": [
    "def phi(x, mu, sigma):\n",
    "    phi = np.exp(-(x-mu)**2/(2*sigma**2))\n",
    "    return phi"
   ]
  },
  {
   "cell_type": "code",
   "execution_count": 85,
   "metadata": {},
   "outputs": [],
   "source": [
    "def phi_matrix(x, mu, sigma):\n",
    "    mat = np.zeros((len(x), len(mu)))\n",
    "    for i in range(len(x)):\n",
    "        for j in range(len(mu)):\n",
    "            mat[i][j] = phi(x[i], mu[j], sigma[j])\n",
    "    return mat"
   ]
  },
  {
   "cell_type": "code",
   "execution_count": 86,
   "metadata": {},
   "outputs": [],
   "source": [
    "def f_function(x, mu, sigma, weights):\n",
    "    y = np.zeros(len(x))\n",
    "    for i in range(len(x)):\n",
    "        add = 0\n",
    "        for j in range(len(mu)):\n",
    "            add += phi(x[i], mu[j], sigma[j])*weights[j]\n",
    "        y[i] = add\n",
    "    return y"
   ]
  },
  {
   "cell_type": "code",
   "execution_count": 87,
   "metadata": {},
   "outputs": [],
   "source": [
    "def batch_learning(phi, f):\n",
    "    temp = inv(np.matmul(np.transpose(phi), phi))\n",
    "    w = np.matmul(np.matmul(temp, np.transpose(phi)), np.transpose(f))\n",
    "    return w"
   ]
  },
  {
   "cell_type": "code",
   "execution_count": 88,
   "metadata": {},
   "outputs": [],
   "source": [
    "def error(y, f):\n",
    "    sum = 0\n",
    "    for i in range(len(y)):\n",
    "        sum += np.absolute((y[i] - f[i]))**2\n",
    "    return sum/len(y)"
   ]
  },
  {
   "cell_type": "code",
   "execution_count": 89,
   "metadata": {},
   "outputs": [],
   "source": [
    "# didnt understand this part---need more reading\n",
    "def chunkify(seq, num):\n",
    "    #Divide the train set in \"number of nodes\" equal parts. \n",
    "    out = []\n",
    "\n",
    "    if len(seq) % num == 0:\n",
    "        length = len(seq) / num\n",
    "        plus = 0\n",
    "    else:\n",
    "        length = len(seq) / num\n",
    "        plus = len(seq) % num\n",
    "\n",
    "    howmany = 0\n",
    "    while howmany < len(seq):\n",
    "        first = howmany\n",
    "        last = first + length\n",
    "        if plus > 0:\n",
    "            last += 1\n",
    "            plus -= 1\n",
    "        out.append(seq[int(first):int(last)])\n",
    "        howmany += (last - first)\n",
    "    return out\n",
    "\n",
    "def init_mus(nodes_number, train):\n",
    "    mus = np.zeros(nodes_number)\n",
    "\n",
    "    chunks = chunkify(train, nodes_number)\n",
    "    for i,elem in enumerate(chunks):\n",
    "        mean = np.mean(elem)\n",
    "        mus[i] = mean\n",
    "    return mus\n"
   ]
  },
  {
   "cell_type": "code",
   "execution_count": 91,
   "metadata": {},
   "outputs": [
    {
     "name": "stdout",
     "output_type": "stream",
     "text": [
      "[3.09033101]\n",
      "[1.53259356 4.69831805]\n",
      "[0.9755734  3.10103599 5.19438364]\n",
      "[0.72278923 2.3875211  4.10818699 5.59224526]\n",
      "[0.56794569 1.93040319 3.31852602 4.58964369 5.74757089]\n",
      "[0.47292299 1.62535236 2.80301685 3.90678767 4.94077116 5.8461139 ]\n",
      "[0.37558752 1.28062703 2.16700085 3.11000017 4.01281009 4.89257009\n",
      " 5.79372133]\n",
      "[0.32172229 1.17818898 2.08824406 3.00353057 3.90741684 4.78277138\n",
      " 5.69916861 6.18319135]\n",
      "[0.27028489 0.98397657 1.67245875 2.39007767 3.11226652 3.8007638\n",
      " 4.49266861 5.20094321 5.8895391 ]\n",
      "[0.4882639963404581, 0.48819708013599705, 0.33260044490649676, 0.02144530861933926, 0.16371740254480605, 0.061622238589626316, 0.011487891033503925, 0.004309659193266001, 0.0019412577650029337]\n",
      "[0.9971573394482843, 0.9974839695944131, 0.7420613115979888, 0.17371236043466085, 0.36889606444611345, 0.21317400361837396, 0.14445330761589173, 0.1441490072236326, 0.13600128328564742]\n",
      "[0.49223702515308365, 0.4936632083966312, 0.3249358070838759, 0.02446329128207373, 0.1726376718425306, 0.061732728893542865, 0.0139090934893841, 0.004808346293880253, 0.0033573281673021315]\n",
      "[1.0021212491441147, 1.0041007341128807, 0.7238875028932183, 0.19025429318366996, 0.3951162767862006, 0.24355754046955388, 0.1635196222494781, 0.16661352537833815, 0.1575268260088456]\n"
     ]
    }
   ],
   "source": [
    "nodes = np.arange(2,80, 10)\n",
    "sigma1= 0.5\n",
    "error_sinx_train = []\n",
    "error_square_train = []\n",
    "error_sinx_test = []\n",
    "error_square_test = []\n",
    "y_pred_sinx=[]\n",
    "y_pred_sqaure=[]\n",
    "y_pred_square_test=[]\n",
    "y_pred_sinx_test=[]\n",
    "w_sinx=[]\n",
    "w_square=[]\n",
    "iters=10\n",
    "#nodes\n",
    "y_sinx=sinx(train)\n",
    "#y_sinx\n",
    "y_square=sinx_square(train)\n",
    "#ysquare\n",
    "y_sinx_test=sinx(test)\n",
    "#y_sinx_test\n",
    "y_square_test=sinx_square(test)\n",
    "#y_square_test\n",
    "for i in range(1,iters):\n",
    "    \n",
    "    mu = init_mus(i, train)\n",
    "    print(mu)\n",
    "    sigma = np.ones(len(mu)) * sigma1\n",
    "    phi1 = phi_matrix(train, mu, sigma)\n",
    "    w_sinx = batch_learning(phi1, y_sinx)\n",
    "    y_pred_sinx = f_function(train, mu, sigma, w_sinx)\n",
    "    error_sinx_train.append(error(y_pred_sinx, y_sinx))\n",
    "    \n",
    "    w_square = batch_learning(phi1, y_square)\n",
    "    y_pred_sqaure = f_function(train, mu, sigma, w_square)\n",
    "    error_square_train.append(error(y_pred_sqaure, y_square))\n",
    "    \n",
    "    y_pred_sinx_test = f_function(test, mu, sigma, w_sinx)\n",
    "    error_sinx_test.append(error(y_pred_sinx_test, y_sinx_test))\n",
    "    \n",
    "    y_pred_square_test = f_function(test, mu, sigma, w_square)\n",
    "    error_square_test.append(error(y_pred_square_test, y_square_test))\n",
    "    '''\n",
    "    y_train = phi_matrix(train, mu, sigma)\n",
    "    y_test = phi_matrix(test, mu, sigma)\n",
    "    #print(y_train)\n",
    "    #print(y_test)\n",
    "    w_sinx = np.linalg.lstsq(y_train, y_sinx)\n",
    "    #print(w_sinx)\n",
    "    w_square = np.linalg.lstsq(y_train, y_square)\n",
    "    #print(w_square)\n",
    "    y_pred_sinx = np.dot(y_test,w_sinx[0])\n",
    "    y_pred_square = np.dot(y_test,w_square[0])\n",
    "    error_sinx.append(error(y_pred_sinx, y_sinx_test))\n",
    "    error_square.append(error(y_pred_square, y_square_test))\n",
    "print(error_sinx)\n",
    "print(error_square)\n",
    "'''\n",
    "print(error_sinx_train)\n",
    "print(error_square_train)\n",
    "print(error_sinx_test)\n",
    "print(error_square_test)"
   ]
  },
  {
   "cell_type": "code",
   "execution_count": null,
   "metadata": {},
   "outputs": [],
   "source": []
  }
 ],
 "metadata": {
  "kernelspec": {
   "display_name": "Python 3",
   "language": "python",
   "name": "python3"
  },
  "language_info": {
   "codemirror_mode": {
    "name": "ipython",
    "version": 3
   },
   "file_extension": ".py",
   "mimetype": "text/x-python",
   "name": "python",
   "nbconvert_exporter": "python",
   "pygments_lexer": "ipython3",
   "version": "3.7.6"
  }
 },
 "nbformat": 4,
 "nbformat_minor": 2
}
